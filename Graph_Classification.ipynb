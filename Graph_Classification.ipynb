{
  "cells": [
    {
      "cell_type": "code",
      "execution_count": null,
      "metadata": {
        "id": "Uivp_FCdUpvV"
      },
      "outputs": [],
      "source": [
        "# Please run them sequentially"
      ]
    },
    {
      "cell_type": "code",
      "execution_count": null,
      "metadata": {
        "id": "5WlZujazUpvf"
      },
      "outputs": [],
      "source": [
        "import pandas as pd\n",
        "import numpy as np\n",
        "import torch\n",
        "# import networkx as"
      ]
    },
    {
      "cell_type": "code",
      "execution_count": null,
      "metadata": {
        "id": "8ZnLeUtqUpvh"
      },
      "outputs": [],
      "source": [
        "# Reading the Common Fiber Matrix\n",
        "df = pd.read_csv(\"/content/drive/MyDrive/6389_Data_project2/Training/Health/sub1/common_fiber_matrix.txt\", sep=r'\\s{2,}', header = None, engine= \"python\")"
      ]
    },
    {
      "cell_type": "code",
      "source": [
        "from google.colab import drive\n",
        "drive.mount('/content/drive')"
      ],
      "metadata": {
        "colab": {
          "base_uri": "https://localhost:8080/"
        },
        "id": "7ge6s3etU3KJ",
        "outputId": "bc1efa27-abfd-4c6a-9c10-0bce2c824d14"
      },
      "execution_count": null,
      "outputs": [
        {
          "output_type": "stream",
          "name": "stdout",
          "text": [
            "Mounted at /content/drive\n"
          ]
        }
      ]
    },
    {
      "cell_type": "code",
      "execution_count": null,
      "metadata": {
        "colab": {
          "base_uri": "https://localhost:8080/",
          "height": 236
        },
        "id": "ElwwT-HvUpvi",
        "outputId": "60cc2614-8cf1-49df-a09d-b82ff9989157"
      },
      "outputs": [
        {
          "output_type": "execute_result",
          "data": {
            "text/plain": [
              "     0      1      2      3      4     5    6     7    8    9    ...  140  \\\n",
              "0  369.0    0.0    0.0    0.0   61.0  63.0  1.0   1.0  0.0  2.0  ...  0.0   \n",
              "1    0.0  885.0    0.0    0.0    0.0   5.0  0.0   0.0  0.0  8.0  ...  6.0   \n",
              "2    0.0    0.0  322.0    0.0    1.0   4.0  5.0  13.0  0.0  0.0  ...  0.0   \n",
              "3    0.0    0.0    0.0  420.0    0.0   0.0  0.0   0.0  0.0  0.0  ...  0.0   \n",
              "4   61.0    0.0    1.0    0.0  283.0  44.0  4.0   5.0  1.0  0.0  ...  1.0   \n",
              "\n",
              "    141  142  143  144   145  146  147  148  149  \n",
              "0   0.0  0.0  0.0  0.0  17.0  0.0  0.0  0.0  0.0  \n",
              "1  27.0  6.0  0.0  0.0   0.0  0.0  1.0  3.0  0.0  \n",
              "2  13.0  0.0  0.0  0.0   0.0  0.0  0.0  0.0  0.0  \n",
              "3   3.0  0.0  1.0  0.0   0.0  0.0  0.0  0.0  0.0  \n",
              "4  13.0  0.0  0.0  0.0   0.0  3.0  0.0  0.0  0.0  \n",
              "\n",
              "[5 rows x 150 columns]"
            ],
            "text/html": [
              "\n",
              "  <div id=\"df-ad39078b-67d6-422c-a6e7-1889e8d95b84\">\n",
              "    <div class=\"colab-df-container\">\n",
              "      <div>\n",
              "<style scoped>\n",
              "    .dataframe tbody tr th:only-of-type {\n",
              "        vertical-align: middle;\n",
              "    }\n",
              "\n",
              "    .dataframe tbody tr th {\n",
              "        vertical-align: top;\n",
              "    }\n",
              "\n",
              "    .dataframe thead th {\n",
              "        text-align: right;\n",
              "    }\n",
              "</style>\n",
              "<table border=\"1\" class=\"dataframe\">\n",
              "  <thead>\n",
              "    <tr style=\"text-align: right;\">\n",
              "      <th></th>\n",
              "      <th>0</th>\n",
              "      <th>1</th>\n",
              "      <th>2</th>\n",
              "      <th>3</th>\n",
              "      <th>4</th>\n",
              "      <th>5</th>\n",
              "      <th>6</th>\n",
              "      <th>7</th>\n",
              "      <th>8</th>\n",
              "      <th>9</th>\n",
              "      <th>...</th>\n",
              "      <th>140</th>\n",
              "      <th>141</th>\n",
              "      <th>142</th>\n",
              "      <th>143</th>\n",
              "      <th>144</th>\n",
              "      <th>145</th>\n",
              "      <th>146</th>\n",
              "      <th>147</th>\n",
              "      <th>148</th>\n",
              "      <th>149</th>\n",
              "    </tr>\n",
              "  </thead>\n",
              "  <tbody>\n",
              "    <tr>\n",
              "      <th>0</th>\n",
              "      <td>369.0</td>\n",
              "      <td>0.0</td>\n",
              "      <td>0.0</td>\n",
              "      <td>0.0</td>\n",
              "      <td>61.0</td>\n",
              "      <td>63.0</td>\n",
              "      <td>1.0</td>\n",
              "      <td>1.0</td>\n",
              "      <td>0.0</td>\n",
              "      <td>2.0</td>\n",
              "      <td>...</td>\n",
              "      <td>0.0</td>\n",
              "      <td>0.0</td>\n",
              "      <td>0.0</td>\n",
              "      <td>0.0</td>\n",
              "      <td>0.0</td>\n",
              "      <td>17.0</td>\n",
              "      <td>0.0</td>\n",
              "      <td>0.0</td>\n",
              "      <td>0.0</td>\n",
              "      <td>0.0</td>\n",
              "    </tr>\n",
              "    <tr>\n",
              "      <th>1</th>\n",
              "      <td>0.0</td>\n",
              "      <td>885.0</td>\n",
              "      <td>0.0</td>\n",
              "      <td>0.0</td>\n",
              "      <td>0.0</td>\n",
              "      <td>5.0</td>\n",
              "      <td>0.0</td>\n",
              "      <td>0.0</td>\n",
              "      <td>0.0</td>\n",
              "      <td>8.0</td>\n",
              "      <td>...</td>\n",
              "      <td>6.0</td>\n",
              "      <td>27.0</td>\n",
              "      <td>6.0</td>\n",
              "      <td>0.0</td>\n",
              "      <td>0.0</td>\n",
              "      <td>0.0</td>\n",
              "      <td>0.0</td>\n",
              "      <td>1.0</td>\n",
              "      <td>3.0</td>\n",
              "      <td>0.0</td>\n",
              "    </tr>\n",
              "    <tr>\n",
              "      <th>2</th>\n",
              "      <td>0.0</td>\n",
              "      <td>0.0</td>\n",
              "      <td>322.0</td>\n",
              "      <td>0.0</td>\n",
              "      <td>1.0</td>\n",
              "      <td>4.0</td>\n",
              "      <td>5.0</td>\n",
              "      <td>13.0</td>\n",
              "      <td>0.0</td>\n",
              "      <td>0.0</td>\n",
              "      <td>...</td>\n",
              "      <td>0.0</td>\n",
              "      <td>13.0</td>\n",
              "      <td>0.0</td>\n",
              "      <td>0.0</td>\n",
              "      <td>0.0</td>\n",
              "      <td>0.0</td>\n",
              "      <td>0.0</td>\n",
              "      <td>0.0</td>\n",
              "      <td>0.0</td>\n",
              "      <td>0.0</td>\n",
              "    </tr>\n",
              "    <tr>\n",
              "      <th>3</th>\n",
              "      <td>0.0</td>\n",
              "      <td>0.0</td>\n",
              "      <td>0.0</td>\n",
              "      <td>420.0</td>\n",
              "      <td>0.0</td>\n",
              "      <td>0.0</td>\n",
              "      <td>0.0</td>\n",
              "      <td>0.0</td>\n",
              "      <td>0.0</td>\n",
              "      <td>0.0</td>\n",
              "      <td>...</td>\n",
              "      <td>0.0</td>\n",
              "      <td>3.0</td>\n",
              "      <td>0.0</td>\n",
              "      <td>1.0</td>\n",
              "      <td>0.0</td>\n",
              "      <td>0.0</td>\n",
              "      <td>0.0</td>\n",
              "      <td>0.0</td>\n",
              "      <td>0.0</td>\n",
              "      <td>0.0</td>\n",
              "    </tr>\n",
              "    <tr>\n",
              "      <th>4</th>\n",
              "      <td>61.0</td>\n",
              "      <td>0.0</td>\n",
              "      <td>1.0</td>\n",
              "      <td>0.0</td>\n",
              "      <td>283.0</td>\n",
              "      <td>44.0</td>\n",
              "      <td>4.0</td>\n",
              "      <td>5.0</td>\n",
              "      <td>1.0</td>\n",
              "      <td>0.0</td>\n",
              "      <td>...</td>\n",
              "      <td>1.0</td>\n",
              "      <td>13.0</td>\n",
              "      <td>0.0</td>\n",
              "      <td>0.0</td>\n",
              "      <td>0.0</td>\n",
              "      <td>0.0</td>\n",
              "      <td>3.0</td>\n",
              "      <td>0.0</td>\n",
              "      <td>0.0</td>\n",
              "      <td>0.0</td>\n",
              "    </tr>\n",
              "  </tbody>\n",
              "</table>\n",
              "<p>5 rows × 150 columns</p>\n",
              "</div>\n",
              "      <button class=\"colab-df-convert\" onclick=\"convertToInteractive('df-ad39078b-67d6-422c-a6e7-1889e8d95b84')\"\n",
              "              title=\"Convert this dataframe to an interactive table.\"\n",
              "              style=\"display:none;\">\n",
              "        \n",
              "  <svg xmlns=\"http://www.w3.org/2000/svg\" height=\"24px\"viewBox=\"0 0 24 24\"\n",
              "       width=\"24px\">\n",
              "    <path d=\"M0 0h24v24H0V0z\" fill=\"none\"/>\n",
              "    <path d=\"M18.56 5.44l.94 2.06.94-2.06 2.06-.94-2.06-.94-.94-2.06-.94 2.06-2.06.94zm-11 1L8.5 8.5l.94-2.06 2.06-.94-2.06-.94L8.5 2.5l-.94 2.06-2.06.94zm10 10l.94 2.06.94-2.06 2.06-.94-2.06-.94-.94-2.06-.94 2.06-2.06.94z\"/><path d=\"M17.41 7.96l-1.37-1.37c-.4-.4-.92-.59-1.43-.59-.52 0-1.04.2-1.43.59L10.3 9.45l-7.72 7.72c-.78.78-.78 2.05 0 2.83L4 21.41c.39.39.9.59 1.41.59.51 0 1.02-.2 1.41-.59l7.78-7.78 2.81-2.81c.8-.78.8-2.07 0-2.86zM5.41 20L4 18.59l7.72-7.72 1.47 1.35L5.41 20z\"/>\n",
              "  </svg>\n",
              "      </button>\n",
              "      \n",
              "  <style>\n",
              "    .colab-df-container {\n",
              "      display:flex;\n",
              "      flex-wrap:wrap;\n",
              "      gap: 12px;\n",
              "    }\n",
              "\n",
              "    .colab-df-convert {\n",
              "      background-color: #E8F0FE;\n",
              "      border: none;\n",
              "      border-radius: 50%;\n",
              "      cursor: pointer;\n",
              "      display: none;\n",
              "      fill: #1967D2;\n",
              "      height: 32px;\n",
              "      padding: 0 0 0 0;\n",
              "      width: 32px;\n",
              "    }\n",
              "\n",
              "    .colab-df-convert:hover {\n",
              "      background-color: #E2EBFA;\n",
              "      box-shadow: 0px 1px 2px rgba(60, 64, 67, 0.3), 0px 1px 3px 1px rgba(60, 64, 67, 0.15);\n",
              "      fill: #174EA6;\n",
              "    }\n",
              "\n",
              "    [theme=dark] .colab-df-convert {\n",
              "      background-color: #3B4455;\n",
              "      fill: #D2E3FC;\n",
              "    }\n",
              "\n",
              "    [theme=dark] .colab-df-convert:hover {\n",
              "      background-color: #434B5C;\n",
              "      box-shadow: 0px 1px 3px 1px rgba(0, 0, 0, 0.15);\n",
              "      filter: drop-shadow(0px 1px 2px rgba(0, 0, 0, 0.3));\n",
              "      fill: #FFFFFF;\n",
              "    }\n",
              "  </style>\n",
              "\n",
              "      <script>\n",
              "        const buttonEl =\n",
              "          document.querySelector('#df-ad39078b-67d6-422c-a6e7-1889e8d95b84 button.colab-df-convert');\n",
              "        buttonEl.style.display =\n",
              "          google.colab.kernel.accessAllowed ? 'block' : 'none';\n",
              "\n",
              "        async function convertToInteractive(key) {\n",
              "          const element = document.querySelector('#df-ad39078b-67d6-422c-a6e7-1889e8d95b84');\n",
              "          const dataTable =\n",
              "            await google.colab.kernel.invokeFunction('convertToInteractive',\n",
              "                                                     [key], {});\n",
              "          if (!dataTable) return;\n",
              "\n",
              "          const docLinkHtml = 'Like what you see? Visit the ' +\n",
              "            '<a target=\"_blank\" href=https://colab.research.google.com/notebooks/data_table.ipynb>data table notebook</a>'\n",
              "            + ' to learn more about interactive tables.';\n",
              "          element.innerHTML = '';\n",
              "          dataTable['output_type'] = 'display_data';\n",
              "          await google.colab.output.renderOutput(dataTable, element);\n",
              "          const docLink = document.createElement('div');\n",
              "          docLink.innerHTML = docLinkHtml;\n",
              "          element.appendChild(docLink);\n",
              "        }\n",
              "      </script>\n",
              "    </div>\n",
              "  </div>\n",
              "  "
            ]
          },
          "metadata": {},
          "execution_count": 4
        }
      ],
      "source": [
        "df.head()"
      ]
    },
    {
      "cell_type": "code",
      "execution_count": null,
      "metadata": {
        "colab": {
          "base_uri": "https://localhost:8080/",
          "height": 300
        },
        "id": "zRAOkufPUpvl",
        "outputId": "27093fee-1a03-44ef-9c55-513064206f2c"
      },
      "outputs": [
        {
          "output_type": "execute_result",
          "data": {
            "text/plain": [
              "        0         1         2         3         4         5         6    \\\n",
              "0  1.000000  0.185440  0.151375  0.250663  0.776522  0.525474  0.293214   \n",
              "1  0.185440  1.000000  0.694452  0.487408  0.064682  0.108765  0.469088   \n",
              "2  0.151375  0.694452  1.000000  0.547573 -0.077481  0.376565  0.645094   \n",
              "3  0.250663  0.487408  0.547573  1.000000  0.130882  0.213225  0.732999   \n",
              "4  0.776522  0.064682 -0.077481  0.130882  1.000000  0.323488  0.252140   \n",
              "\n",
              "        7         8         9    ...       140       141       142       143  \\\n",
              "0  0.241949  0.578018  0.276833  ...  0.142357  0.336353  0.153626  0.155396   \n",
              "1  0.494603  0.370401  0.651730  ...  0.761156  0.603990  0.538870  0.625471   \n",
              "2  0.809168  0.420624  0.741733  ...  0.784963  0.633076  0.856808  0.615150   \n",
              "3  0.696692  0.301806  0.555123  ...  0.538949  0.542540  0.514387  0.487804   \n",
              "4  0.068372  0.455271  0.159310  ...  0.088020  0.356693 -0.049489  0.141515   \n",
              "\n",
              "        144       145       146       147       148       149  \n",
              "0  0.055478  0.103497  0.395730  0.275700  0.309613  0.097228  \n",
              "1  0.329587  0.265079  0.670107  0.669366  0.565110  0.549320  \n",
              "2  0.713551  0.453360  0.592644  0.626485  0.630771  0.689641  \n",
              "3  0.417431  0.106592  0.350506  0.353114  0.402946  0.564400  \n",
              "4 -0.164322 -0.040150  0.351809  0.243052  0.139270  0.030685  \n",
              "\n",
              "[5 rows x 150 columns]"
            ],
            "text/html": [
              "\n",
              "  <div id=\"df-9d148497-8f0e-4411-9d30-01e6e68939c2\">\n",
              "    <div class=\"colab-df-container\">\n",
              "      <div>\n",
              "<style scoped>\n",
              "    .dataframe tbody tr th:only-of-type {\n",
              "        vertical-align: middle;\n",
              "    }\n",
              "\n",
              "    .dataframe tbody tr th {\n",
              "        vertical-align: top;\n",
              "    }\n",
              "\n",
              "    .dataframe thead th {\n",
              "        text-align: right;\n",
              "    }\n",
              "</style>\n",
              "<table border=\"1\" class=\"dataframe\">\n",
              "  <thead>\n",
              "    <tr style=\"text-align: right;\">\n",
              "      <th></th>\n",
              "      <th>0</th>\n",
              "      <th>1</th>\n",
              "      <th>2</th>\n",
              "      <th>3</th>\n",
              "      <th>4</th>\n",
              "      <th>5</th>\n",
              "      <th>6</th>\n",
              "      <th>7</th>\n",
              "      <th>8</th>\n",
              "      <th>9</th>\n",
              "      <th>...</th>\n",
              "      <th>140</th>\n",
              "      <th>141</th>\n",
              "      <th>142</th>\n",
              "      <th>143</th>\n",
              "      <th>144</th>\n",
              "      <th>145</th>\n",
              "      <th>146</th>\n",
              "      <th>147</th>\n",
              "      <th>148</th>\n",
              "      <th>149</th>\n",
              "    </tr>\n",
              "  </thead>\n",
              "  <tbody>\n",
              "    <tr>\n",
              "      <th>0</th>\n",
              "      <td>1.000000</td>\n",
              "      <td>0.185440</td>\n",
              "      <td>0.151375</td>\n",
              "      <td>0.250663</td>\n",
              "      <td>0.776522</td>\n",
              "      <td>0.525474</td>\n",
              "      <td>0.293214</td>\n",
              "      <td>0.241949</td>\n",
              "      <td>0.578018</td>\n",
              "      <td>0.276833</td>\n",
              "      <td>...</td>\n",
              "      <td>0.142357</td>\n",
              "      <td>0.336353</td>\n",
              "      <td>0.153626</td>\n",
              "      <td>0.155396</td>\n",
              "      <td>0.055478</td>\n",
              "      <td>0.103497</td>\n",
              "      <td>0.395730</td>\n",
              "      <td>0.275700</td>\n",
              "      <td>0.309613</td>\n",
              "      <td>0.097228</td>\n",
              "    </tr>\n",
              "    <tr>\n",
              "      <th>1</th>\n",
              "      <td>0.185440</td>\n",
              "      <td>1.000000</td>\n",
              "      <td>0.694452</td>\n",
              "      <td>0.487408</td>\n",
              "      <td>0.064682</td>\n",
              "      <td>0.108765</td>\n",
              "      <td>0.469088</td>\n",
              "      <td>0.494603</td>\n",
              "      <td>0.370401</td>\n",
              "      <td>0.651730</td>\n",
              "      <td>...</td>\n",
              "      <td>0.761156</td>\n",
              "      <td>0.603990</td>\n",
              "      <td>0.538870</td>\n",
              "      <td>0.625471</td>\n",
              "      <td>0.329587</td>\n",
              "      <td>0.265079</td>\n",
              "      <td>0.670107</td>\n",
              "      <td>0.669366</td>\n",
              "      <td>0.565110</td>\n",
              "      <td>0.549320</td>\n",
              "    </tr>\n",
              "    <tr>\n",
              "      <th>2</th>\n",
              "      <td>0.151375</td>\n",
              "      <td>0.694452</td>\n",
              "      <td>1.000000</td>\n",
              "      <td>0.547573</td>\n",
              "      <td>-0.077481</td>\n",
              "      <td>0.376565</td>\n",
              "      <td>0.645094</td>\n",
              "      <td>0.809168</td>\n",
              "      <td>0.420624</td>\n",
              "      <td>0.741733</td>\n",
              "      <td>...</td>\n",
              "      <td>0.784963</td>\n",
              "      <td>0.633076</td>\n",
              "      <td>0.856808</td>\n",
              "      <td>0.615150</td>\n",
              "      <td>0.713551</td>\n",
              "      <td>0.453360</td>\n",
              "      <td>0.592644</td>\n",
              "      <td>0.626485</td>\n",
              "      <td>0.630771</td>\n",
              "      <td>0.689641</td>\n",
              "    </tr>\n",
              "    <tr>\n",
              "      <th>3</th>\n",
              "      <td>0.250663</td>\n",
              "      <td>0.487408</td>\n",
              "      <td>0.547573</td>\n",
              "      <td>1.000000</td>\n",
              "      <td>0.130882</td>\n",
              "      <td>0.213225</td>\n",
              "      <td>0.732999</td>\n",
              "      <td>0.696692</td>\n",
              "      <td>0.301806</td>\n",
              "      <td>0.555123</td>\n",
              "      <td>...</td>\n",
              "      <td>0.538949</td>\n",
              "      <td>0.542540</td>\n",
              "      <td>0.514387</td>\n",
              "      <td>0.487804</td>\n",
              "      <td>0.417431</td>\n",
              "      <td>0.106592</td>\n",
              "      <td>0.350506</td>\n",
              "      <td>0.353114</td>\n",
              "      <td>0.402946</td>\n",
              "      <td>0.564400</td>\n",
              "    </tr>\n",
              "    <tr>\n",
              "      <th>4</th>\n",
              "      <td>0.776522</td>\n",
              "      <td>0.064682</td>\n",
              "      <td>-0.077481</td>\n",
              "      <td>0.130882</td>\n",
              "      <td>1.000000</td>\n",
              "      <td>0.323488</td>\n",
              "      <td>0.252140</td>\n",
              "      <td>0.068372</td>\n",
              "      <td>0.455271</td>\n",
              "      <td>0.159310</td>\n",
              "      <td>...</td>\n",
              "      <td>0.088020</td>\n",
              "      <td>0.356693</td>\n",
              "      <td>-0.049489</td>\n",
              "      <td>0.141515</td>\n",
              "      <td>-0.164322</td>\n",
              "      <td>-0.040150</td>\n",
              "      <td>0.351809</td>\n",
              "      <td>0.243052</td>\n",
              "      <td>0.139270</td>\n",
              "      <td>0.030685</td>\n",
              "    </tr>\n",
              "  </tbody>\n",
              "</table>\n",
              "<p>5 rows × 150 columns</p>\n",
              "</div>\n",
              "      <button class=\"colab-df-convert\" onclick=\"convertToInteractive('df-9d148497-8f0e-4411-9d30-01e6e68939c2')\"\n",
              "              title=\"Convert this dataframe to an interactive table.\"\n",
              "              style=\"display:none;\">\n",
              "        \n",
              "  <svg xmlns=\"http://www.w3.org/2000/svg\" height=\"24px\"viewBox=\"0 0 24 24\"\n",
              "       width=\"24px\">\n",
              "    <path d=\"M0 0h24v24H0V0z\" fill=\"none\"/>\n",
              "    <path d=\"M18.56 5.44l.94 2.06.94-2.06 2.06-.94-2.06-.94-.94-2.06-.94 2.06-2.06.94zm-11 1L8.5 8.5l.94-2.06 2.06-.94-2.06-.94L8.5 2.5l-.94 2.06-2.06.94zm10 10l.94 2.06.94-2.06 2.06-.94-2.06-.94-.94-2.06-.94 2.06-2.06.94z\"/><path d=\"M17.41 7.96l-1.37-1.37c-.4-.4-.92-.59-1.43-.59-.52 0-1.04.2-1.43.59L10.3 9.45l-7.72 7.72c-.78.78-.78 2.05 0 2.83L4 21.41c.39.39.9.59 1.41.59.51 0 1.02-.2 1.41-.59l7.78-7.78 2.81-2.81c.8-.78.8-2.07 0-2.86zM5.41 20L4 18.59l7.72-7.72 1.47 1.35L5.41 20z\"/>\n",
              "  </svg>\n",
              "      </button>\n",
              "      \n",
              "  <style>\n",
              "    .colab-df-container {\n",
              "      display:flex;\n",
              "      flex-wrap:wrap;\n",
              "      gap: 12px;\n",
              "    }\n",
              "\n",
              "    .colab-df-convert {\n",
              "      background-color: #E8F0FE;\n",
              "      border: none;\n",
              "      border-radius: 50%;\n",
              "      cursor: pointer;\n",
              "      display: none;\n",
              "      fill: #1967D2;\n",
              "      height: 32px;\n",
              "      padding: 0 0 0 0;\n",
              "      width: 32px;\n",
              "    }\n",
              "\n",
              "    .colab-df-convert:hover {\n",
              "      background-color: #E2EBFA;\n",
              "      box-shadow: 0px 1px 2px rgba(60, 64, 67, 0.3), 0px 1px 3px 1px rgba(60, 64, 67, 0.15);\n",
              "      fill: #174EA6;\n",
              "    }\n",
              "\n",
              "    [theme=dark] .colab-df-convert {\n",
              "      background-color: #3B4455;\n",
              "      fill: #D2E3FC;\n",
              "    }\n",
              "\n",
              "    [theme=dark] .colab-df-convert:hover {\n",
              "      background-color: #434B5C;\n",
              "      box-shadow: 0px 1px 3px 1px rgba(0, 0, 0, 0.15);\n",
              "      filter: drop-shadow(0px 1px 2px rgba(0, 0, 0, 0.3));\n",
              "      fill: #FFFFFF;\n",
              "    }\n",
              "  </style>\n",
              "\n",
              "      <script>\n",
              "        const buttonEl =\n",
              "          document.querySelector('#df-9d148497-8f0e-4411-9d30-01e6e68939c2 button.colab-df-convert');\n",
              "        buttonEl.style.display =\n",
              "          google.colab.kernel.accessAllowed ? 'block' : 'none';\n",
              "\n",
              "        async function convertToInteractive(key) {\n",
              "          const element = document.querySelector('#df-9d148497-8f0e-4411-9d30-01e6e68939c2');\n",
              "          const dataTable =\n",
              "            await google.colab.kernel.invokeFunction('convertToInteractive',\n",
              "                                                     [key], {});\n",
              "          if (!dataTable) return;\n",
              "\n",
              "          const docLinkHtml = 'Like what you see? Visit the ' +\n",
              "            '<a target=\"_blank\" href=https://colab.research.google.com/notebooks/data_table.ipynb>data table notebook</a>'\n",
              "            + ' to learn more about interactive tables.';\n",
              "          element.innerHTML = '';\n",
              "          dataTable['output_type'] = 'display_data';\n",
              "          await google.colab.output.renderOutput(dataTable, element);\n",
              "          const docLink = document.createElement('div');\n",
              "          docLink.innerHTML = docLinkHtml;\n",
              "          element.appendChild(docLink);\n",
              "        }\n",
              "      </script>\n",
              "    </div>\n",
              "  </div>\n",
              "  "
            ]
          },
          "metadata": {},
          "execution_count": 5
        }
      ],
      "source": [
        "# Reading the Correaltion Matrix\n",
        "df1 = pd.read_csv(\"/content/drive/MyDrive/6389_Data_project2/Training/Health/sub1/pcc_fmri_feature_matrix_0.txt\", sep=r'\\s{2,}', header = None, engine= \"python\")\n",
        "df1.head()"
      ]
    },
    {
      "cell_type": "code",
      "source": [
        "!pip install torch_geometric"
      ],
      "metadata": {
        "colab": {
          "base_uri": "https://localhost:8080/"
        },
        "id": "kInIW6SMVVY6",
        "outputId": "20d4cd28-fe38-4aca-b39b-13413165ac88"
      },
      "execution_count": null,
      "outputs": [
        {
          "output_type": "stream",
          "name": "stdout",
          "text": [
            "Looking in indexes: https://pypi.org/simple, https://us-python.pkg.dev/colab-wheels/public/simple/\n",
            "Collecting torch_geometric\n",
            "  Downloading torch_geometric-2.1.0.post1.tar.gz (467 kB)\n",
            "\u001b[K     |████████████████████████████████| 467 kB 4.6 MB/s \n",
            "\u001b[?25hRequirement already satisfied: tqdm in /usr/local/lib/python3.7/dist-packages (from torch_geometric) (4.64.1)\n",
            "Requirement already satisfied: numpy in /usr/local/lib/python3.7/dist-packages (from torch_geometric) (1.21.6)\n",
            "Requirement already satisfied: scipy in /usr/local/lib/python3.7/dist-packages (from torch_geometric) (1.7.3)\n",
            "Requirement already satisfied: jinja2 in /usr/local/lib/python3.7/dist-packages (from torch_geometric) (2.11.3)\n",
            "Requirement already satisfied: requests in /usr/local/lib/python3.7/dist-packages (from torch_geometric) (2.23.0)\n",
            "Requirement already satisfied: pyparsing in /usr/local/lib/python3.7/dist-packages (from torch_geometric) (3.0.9)\n",
            "Requirement already satisfied: scikit-learn in /usr/local/lib/python3.7/dist-packages (from torch_geometric) (1.0.2)\n",
            "Requirement already satisfied: MarkupSafe>=0.23 in /usr/local/lib/python3.7/dist-packages (from jinja2->torch_geometric) (2.0.1)\n",
            "Requirement already satisfied: certifi>=2017.4.17 in /usr/local/lib/python3.7/dist-packages (from requests->torch_geometric) (2022.9.24)\n",
            "Requirement already satisfied: chardet<4,>=3.0.2 in /usr/local/lib/python3.7/dist-packages (from requests->torch_geometric) (3.0.4)\n",
            "Requirement already satisfied: idna<3,>=2.5 in /usr/local/lib/python3.7/dist-packages (from requests->torch_geometric) (2.10)\n",
            "Requirement already satisfied: urllib3!=1.25.0,!=1.25.1,<1.26,>=1.21.1 in /usr/local/lib/python3.7/dist-packages (from requests->torch_geometric) (1.24.3)\n",
            "Requirement already satisfied: joblib>=0.11 in /usr/local/lib/python3.7/dist-packages (from scikit-learn->torch_geometric) (1.2.0)\n",
            "Requirement already satisfied: threadpoolctl>=2.0.0 in /usr/local/lib/python3.7/dist-packages (from scikit-learn->torch_geometric) (3.1.0)\n",
            "Building wheels for collected packages: torch-geometric\n",
            "  Building wheel for torch-geometric (setup.py) ... \u001b[?25l\u001b[?25hdone\n",
            "  Created wheel for torch-geometric: filename=torch_geometric-2.1.0.post1-py3-none-any.whl size=689859 sha256=f206c8d24d1f82ea9940e29ff21e53828be065117d379151777e29681f6923c6\n",
            "  Stored in directory: /root/.cache/pip/wheels/d1/cb/43/f7f2e472de4d7cff31bceddadc36d634e1e545fbc17961c282\n",
            "Successfully built torch-geometric\n",
            "Installing collected packages: torch-geometric\n",
            "Successfully installed torch-geometric-2.1.0.post1\n"
          ]
        }
      ]
    },
    {
      "cell_type": "code",
      "source": [
        "!pip install torch_sparse"
      ],
      "metadata": {
        "colab": {
          "base_uri": "https://localhost:8080/"
        },
        "id": "othiNjTJYiQO",
        "outputId": "234bb9ab-8f41-452b-9fa4-62be91bb38be"
      },
      "execution_count": null,
      "outputs": [
        {
          "output_type": "stream",
          "name": "stdout",
          "text": [
            "Looking in indexes: https://pypi.org/simple, https://us-python.pkg.dev/colab-wheels/public/simple/\n",
            "Collecting torch_sparse\n",
            "  Downloading torch_sparse-0.6.15.tar.gz (2.1 MB)\n",
            "\u001b[K     |████████████████████████████████| 2.1 MB 4.0 MB/s \n",
            "\u001b[?25hRequirement already satisfied: scipy in /usr/local/lib/python3.7/dist-packages (from torch_sparse) (1.7.3)\n",
            "Requirement already satisfied: numpy<1.23.0,>=1.16.5 in /usr/local/lib/python3.7/dist-packages (from scipy->torch_sparse) (1.21.6)\n",
            "Building wheels for collected packages: torch-sparse\n",
            "  Building wheel for torch-sparse (setup.py) ... \u001b[?25l\u001b[?25hdone\n",
            "  Created wheel for torch-sparse: filename=torch_sparse-0.6.15-cp37-cp37m-linux_x86_64.whl size=516862 sha256=ce21b01ddf00f55af771135f34023bd29e4d49b5fef9cf5a8c57710077965e40\n",
            "  Stored in directory: /root/.cache/pip/wheels/15/68/4d/1414be5c2c622bad35364e13213180797717b6d4b8923936dc\n",
            "Successfully built torch-sparse\n",
            "Installing collected packages: torch-sparse\n",
            "Successfully installed torch-sparse-0.6.15\n"
          ]
        }
      ]
    },
    {
      "cell_type": "code",
      "source": [
        "!pip install torch_scatter"
      ],
      "metadata": {
        "colab": {
          "base_uri": "https://localhost:8080/"
        },
        "id": "A47cp_yOWbCQ",
        "outputId": "8578f2bb-8428-43e1-db28-3101730eb178"
      },
      "execution_count": null,
      "outputs": [
        {
          "output_type": "stream",
          "name": "stdout",
          "text": [
            "Looking in indexes: https://pypi.org/simple, https://us-python.pkg.dev/colab-wheels/public/simple/\n",
            "Collecting torch_scatter\n",
            "  Downloading torch_scatter-2.1.0.tar.gz (106 kB)\n",
            "\u001b[K     |████████████████████████████████| 106 kB 5.2 MB/s \n",
            "\u001b[?25hBuilding wheels for collected packages: torch-scatter\n",
            "  Building wheel for torch-scatter (setup.py) ... \u001b[?25l\u001b[?25hdone\n",
            "  Created wheel for torch-scatter: filename=torch_scatter-2.1.0-cp37-cp37m-linux_x86_64.whl size=305425 sha256=0cf3f81bcc04be533018e0415c31c084b1e1e093f7713ab91540b847718b146a\n",
            "  Stored in directory: /root/.cache/pip/wheels/2d/d1/15/8a2f0086896d156654a843fff4bdbeaf621cdd10310a0daad2\n",
            "Successfully built torch-scatter\n",
            "Installing collected packages: torch-scatter\n",
            "Successfully installed torch-scatter-2.1.0\n"
          ]
        }
      ]
    },
    {
      "cell_type": "code",
      "execution_count": null,
      "metadata": {
        "id": "J1bBIeLsUpvm"
      },
      "outputs": [],
      "source": [
        "from torch_geometric.data import Data, DataLoader\n",
        "from scipy.sparse import coo_matrix\n",
        "\n",
        "# Function to get data from the folders and combining them to form the train, test and feature data\n",
        "def get_data(dataset = \"Training\", feature = False):\n",
        "    healthy = []\n",
        "    patient = []\n",
        "    if dataset == \"Training\" and feature == False:\n",
        "        for i in range(1,11):\n",
        "            healthy.append([np.genfromtxt('/content/drive/MyDrive/6389_Data_project2/'+dataset+'/Health/sub'+str(i)+'/common_fiber_matrix.txt'), 1])\n",
        "            patient.append([np.genfromtxt('/content/drive/MyDrive/6389_Data_project2/'+dataset+'/Patient/sub'+str(i)+'/common_fiber_matrix.txt'), 0])\n",
        "\n",
        "    elif dataset == \"Testing\" and feature == False:\n",
        "        for i in range(1,6):\n",
        "            healthy.append([np.genfromtxt('/content/drive/MyDrive/6389_Data_project2/'+dataset+'/Health/sub'+str(i)+'/common_fiber_matrix.txt'), 1])\n",
        "            patient.append([np.genfromtxt('/content/drive/MyDrive/6389_Data_project2/'+dataset+'/Patient/sub'+str(i)+'/common_fiber_matrix.txt'), 0])\n",
        "\n",
        "    elif dataset == \"Training\" and feature == True:\n",
        "        for i in range(1,11):\n",
        "            healthy.append([np.genfromtxt('/content/drive/MyDrive/6389_Data_project2/'+dataset+'/Health/sub'+str(i)+'/pcc_fmri_feature_matrix_0.txt'), 1])\n",
        "            patient.append([np.genfromtxt('/content/drive/MyDrive/6389_Data_project2/'+dataset+'/Patient/sub'+str(i)+'/pcc_fmri_feature_matrix_0.txt'), 0])\n",
        "\n",
        "    elif dataset == \"Testing\" and feature == True:\n",
        "        for i in range(1,6):\n",
        "            healthy.append([np.genfromtxt('/content/drive/MyDrive/6389_Data_project2/'+dataset+'/Health/sub'+str(i)+'/pcc_fmri_feature_matrix_0.txt'), 1])\n",
        "            patient.append([np.genfromtxt('/content/drive/MyDrive/6389_Data_project2/'+dataset+'/Patient/sub'+str(i)+'/pcc_fmri_feature_matrix_0.txt'), 0])\n",
        "\n",
        "    data = []\n",
        "    for i in range(len(healthy)):\n",
        "        data.append(healthy[i])\n",
        "        data.append(patient[i])\n",
        "\n",
        "    del healthy, patient\n",
        "    return data\n",
        "\n",
        "# Using the PyTorch Geometric's Data class to load the data into the Data class needed to create the dataset\n",
        "def create_dataset(data, features = None):\n",
        "    dataset_list = []\n",
        "    for i in range(len(data)):\n",
        "#         degree_matrix = np.diag(np.sum(data[i][0], axis=1))\n",
        "#         degree_matrix = np.count_nonzero(data[i][0], axis=1)\n",
        "#         feature_matrix = degree_matrix.reshape(150,1)\n",
        "        degree_matrix = np.count_nonzero(data[i][0], axis=1).reshape(150,1)\n",
        "        weight_matrix = np.diag(np.sum(data[i][0], axis=1)).diagonal().reshape(150,1)\n",
        "        feature_matrix = np.hstack((degree_matrix, weight_matrix))\n",
        "        edge_index_coo = coo_matrix(data[i][0])\n",
        "        edge_index_coo = torch.tensor(np.vstack((edge_index_coo.row, edge_index_coo.col)), dtype = torch.long)\n",
        "        if features != None:\n",
        "#             print(features[i][0].shape)\n",
        "            feature_matrix = features[i][0]\n",
        "#         print(feature_matrix.shape)\n",
        "        graph_data = Data(x = torch.tensor(feature_matrix, dtype = torch.float32), edge_index=edge_index_coo, y = torch.tensor(data[i][1]))\n",
        "        dataset_list.append(graph_data)\n",
        "    return dataset_list\n",
        ""
      ]
    },
    {
      "cell_type": "markdown",
      "metadata": {
        "id": "oJRDqsE6Upvq"
      },
      "source": [
        "## Method-1"
      ]
    },
    {
      "cell_type": "code",
      "execution_count": null,
      "metadata": {
        "colab": {
          "base_uri": "https://localhost:8080/"
        },
        "id": "JHGd_-S1Upvt",
        "outputId": "dcfceda4-810b-4892-dc5f-f82f8bfb690d"
      },
      "outputs": [
        {
          "output_type": "stream",
          "name": "stderr",
          "text": [
            "/usr/local/lib/python3.7/dist-packages/torch_geometric/deprecation.py:12: UserWarning: 'data.DataLoader' is deprecated, use 'loader.DataLoader' instead\n",
            "  warnings.warn(out)\n"
          ]
        }
      ],
      "source": [
        "train_data1 = get_data(\"Training\")\n",
        "test_data1 = get_data(\"Testing\")\n",
        "\n",
        "training_dataset1 = create_dataset(train_data1)\n",
        "testing_dataset1 = create_dataset(test_data1)\n",
        "\n",
        "train_loader1 = DataLoader(training_dataset1, batch_size=5, shuffle = True)\n",
        "test_loader1 = DataLoader(testing_dataset1, batch_size=5, shuffle=True)"
      ]
    },
    {
      "cell_type": "code",
      "execution_count": null,
      "metadata": {
        "colab": {
          "base_uri": "https://localhost:8080/"
        },
        "id": "1uYnHpgIUpvv",
        "outputId": "f0b69ba2-1f56-4e61-cbff-69d8ce2ca5f1"
      },
      "outputs": [
        {
          "output_type": "stream",
          "name": "stdout",
          "text": [
            "GCN1(\n",
            "  (conv1): GCNConv(2, 64)\n",
            "  (conv2): GCNConv(64, 64)\n",
            "  (lin1): Linear(in_features=64, out_features=2, bias=True)\n",
            ")\n"
          ]
        }
      ],
      "source": [
        "from torch.nn import Linear\n",
        "import torch.nn.functional as F\n",
        "from torch_geometric.nn import GCNConv\n",
        "from torch_geometric.nn import global_mean_pool, global_max_pool\n",
        "\n",
        "\n",
        "class GCN1(torch.nn.Module):\n",
        "    def __init__(self, hidden_channels):\n",
        "        super(GCN1, self).__init__()\n",
        "        torch.manual_seed(12345)\n",
        "        self.conv1 = GCNConv(2, hidden_channels)\n",
        "        self.conv2 = GCNConv(hidden_channels, hidden_channels)\n",
        "        self.lin1 = Linear(hidden_channels, 2)\n",
        "\n",
        "    def forward(self, x, edge_index, batch):\n",
        "        # 1. Obtain node embeddings\n",
        "        x = self.conv1(x, edge_index)\n",
        "        x = F.relu(x)\n",
        "        x = self.conv2(x, edge_index)\n",
        "        x = F.relu(x)\n",
        "#         x = self.conv3(x, edge_index)\n",
        "\n",
        "        # 2. Readout layer\n",
        "        x = global_mean_pool(x, batch)  # [batch_size, hidden_channels]\n",
        "\n",
        "        # 3. Apply a final classifier\n",
        "        x = F.dropout(x, p=0.3, training=self.training)\n",
        "        x = self.lin1(x)\n",
        "\n",
        "        return x\n",
        "\n",
        "model = GCN1(hidden_channels=64)\n",
        "print(model)"
      ]
    },
    {
      "cell_type": "code",
      "execution_count": null,
      "metadata": {
        "colab": {
          "base_uri": "https://localhost:8080/"
        },
        "id": "Zk9roUUSUpvx",
        "outputId": "b675b927-d15d-4c66-8ccc-811c1d940b32"
      },
      "outputs": [
        {
          "output_type": "stream",
          "name": "stdout",
          "text": [
            "Epoch: 010, Train Acc: 0.5000, Test Acc: 0.5000\n",
            "Epoch: 020, Train Acc: 0.5000, Test Acc: 0.5000\n",
            "Epoch: 030, Train Acc: 0.5000, Test Acc: 0.5000\n",
            "Epoch: 040, Train Acc: 0.5000, Test Acc: 0.5000\n",
            "Epoch: 050, Train Acc: 0.5000, Test Acc: 0.5000\n"
          ]
        }
      ],
      "source": [
        "model1 = GCN1(hidden_channels=64)\n",
        "optimizer1 = torch.optim.Adam(model.parameters(), lr=0.001)\n",
        "criterion = torch.nn.CrossEntropyLoss()\n",
        "# criterion = torch.nn.BCELoss()\n",
        "\n",
        "def train1():\n",
        "    model1.train()\n",
        "\n",
        "    for data in train_loader1:  # Iterate in batches over the training dataset.\n",
        "        out1 = model(data.x, data.edge_index, data.batch)  # Perform a single forward pass.\n",
        "        loss1 = criterion(out1, data.y)  # Computing the loss.\n",
        "        loss1.backward()  # Deriving gradients.\n",
        "        optimizer1.step()  # Updating parameters based on gradients.\n",
        "        optimizer1.zero_grad()  # Clearing gradients.\n",
        "#     print(\"Loss:\",loss)\n",
        "\n",
        "def test1(loader):\n",
        "    model1.eval()\n",
        "\n",
        "    correct1 = 0\n",
        "    for data in loader:  # Iterate in batches over the training/test dataset.\n",
        "        out1 = model1(data.x, data.edge_index, data.batch)\n",
        "        pred1 = out1.argmax(dim=1)  # Use the class with highest probability.\n",
        "        correct1 += int((pred1 == data.y).sum())  # Check against ground-truth labels.\n",
        "    return correct1 / len(loader.dataset)  # Derive ratio of correct predictions.\n",
        "\n",
        "\n",
        "for epoch in range(1, 51):\n",
        "    train1()\n",
        "    train_acc = test1(train_loader1)\n",
        "    test_acc = test1(test_loader1)\n",
        "    if epoch % 10 == 0:\n",
        "#         print(f'Epoch: {epoch:03d}, Train Acc: {train_acc:.4f}')\n",
        "        print(f'Epoch: {epoch:03d}, Train Acc: {train_acc:.4f}, Test Acc: {test_acc:.4f}')"
      ]
    },
    {
      "cell_type": "markdown",
      "metadata": {
        "id": "n62fh9bRUpvz"
      },
      "source": [
        "## Method-2"
      ]
    },
    {
      "cell_type": "code",
      "execution_count": null,
      "metadata": {
        "id": "VpFX99_-Upv0"
      },
      "outputs": [],
      "source": [
        "train_data = get_data(\"Training\")\n",
        "train_data_features = get_data(\"Training\", feature=True)\n",
        "\n",
        "test_data = get_data(\"Testing\")\n",
        "test_data_features = get_data(\"Testing\", feature=True)\n",
        "\n",
        "training_dataset = create_dataset(train_data, features = train_data_features)\n",
        "testing_dataset = create_dataset(test_data, features = test_data_features)\n",
        "\n",
        "# Afetr getting the Datasets we load the data into the respective Dataloader\n",
        "\n",
        "train_loader = DataLoader(training_dataset, batch_size=5, shuffle = True)\n",
        "test_loader = DataLoader(testing_dataset, batch_size=5, shuffle=True)"
      ]
    },
    {
      "cell_type": "code",
      "execution_count": null,
      "metadata": {
        "colab": {
          "base_uri": "https://localhost:8080/"
        },
        "id": "mD0zwjFDUpv1",
        "outputId": "5a845337-f9c3-40a1-fd43-70d7eb54dbe8"
      },
      "outputs": [
        {
          "output_type": "stream",
          "name": "stdout",
          "text": [
            "GCN(\n",
            "  (conv1): GCNConv(150, 64)\n",
            "  (conv2): GCNConv(64, 64)\n",
            "  (lin1): Linear(in_features=64, out_features=2, bias=True)\n",
            ")\n"
          ]
        }
      ],
      "source": [
        "from torch.nn import Linear\n",
        "import torch.nn.functional as F\n",
        "from torch_geometric.nn import GCNConv\n",
        "from torch_geometric.nn import global_mean_pool, global_max_pool\n",
        "\n",
        "\n",
        "class GCN(torch.nn.Module):\n",
        "    def __init__(self, hidden_channels):\n",
        "        super(GCN, self).__init__()\n",
        "        torch.manual_seed(12345)\n",
        "        self.conv1 = GCNConv(150, hidden_channels)\n",
        "        self.conv2 = GCNConv(hidden_channels, hidden_channels)\n",
        "        self.lin1 = Linear(hidden_channels, 2)\n",
        "\n",
        "    def forward(self, x, edge_index, batch):\n",
        "        # 1. Obtain node embeddings\n",
        "        x = self.conv1(x, edge_index)\n",
        "        x = F.relu(x)\n",
        "        x = self.conv2(x, edge_index)\n",
        "        x = F.relu(x)\n",
        "#         x = self.conv3(x, edge_index)\n",
        "\n",
        "        # 2. Readout layer\n",
        "        x = global_mean_pool(x, batch)  # [batch_size, hidden_channels]\n",
        "\n",
        "        # 3. Apply a final classifier\n",
        "        x = F.dropout(x, p=0.3, training=self.training)\n",
        "        x = self.lin1(x)\n",
        "\n",
        "        return x\n",
        "\n",
        "model = GCN(hidden_channels=64)\n",
        "print(model)"
      ]
    },
    {
      "cell_type": "code",
      "execution_count": null,
      "metadata": {
        "colab": {
          "base_uri": "https://localhost:8080/"
        },
        "id": "obmEGD9MUpv3",
        "outputId": "8a1f93ba-f2b1-4661-8832-41d1718f0136"
      },
      "outputs": [
        {
          "output_type": "stream",
          "name": "stdout",
          "text": [
            "Epoch: 010, Train Acc: 0.8500, Test Acc: 0.7000\n",
            "Epoch: 020, Train Acc: 0.9000, Test Acc: 0.8000\n",
            "Epoch: 030, Train Acc: 0.8500, Test Acc: 0.5000\n",
            "Epoch: 040, Train Acc: 1.0000, Test Acc: 0.8000\n",
            "Epoch: 050, Train Acc: 1.0000, Test Acc: 0.8000\n"
          ]
        }
      ],
      "source": [
        "model = GCN(hidden_channels=64)\n",
        "optimizer = torch.optim.Adam(model.parameters(), lr=0.001)\n",
        "criterion = torch.nn.CrossEntropyLoss()\n",
        "# criterion = torch.nn.BCELoss()\n",
        "\n",
        "def train():\n",
        "    model.train()\n",
        "\n",
        "    for data in train_loader:  # Iterate in batches over the training dataset.\n",
        "        out = model(data.x, data.edge_index, data.batch)  # Perform a single forward pass.\n",
        "        loss = criterion(out, data.y)  # Computing the loss.\n",
        "        loss.backward()  # Deriving gradients.\n",
        "        optimizer.step()  # Updating parameters based on gradients.\n",
        "        optimizer.zero_grad()  # Clearing gradients.\n",
        "#     print(\"Loss:\",loss)\n",
        "\n",
        "def test(loader):\n",
        "    model.eval()\n",
        "\n",
        "    correct = 0\n",
        "    for data in loader:  # Iterate in batches over the training/test dataset.\n",
        "        out = model(data.x, data.edge_index, data.batch)\n",
        "        pred = out.argmax(dim=1)  # Use the class with highest probability.\n",
        "        correct += int((pred == data.y).sum())  # Check against ground-truth labels.\n",
        "    return correct / len(loader.dataset)  # Derive ratio of correct predictions.\n",
        "\n",
        "\n",
        "for epoch in range(1, 51):\n",
        "    train()\n",
        "    train_acc = test(train_loader)\n",
        "    test_acc = test(test_loader)\n",
        "    if epoch % 10 == 0:\n",
        "#         print(f'Epoch: {epoch:03d}, Train Acc: {train_acc:.4f}')\n",
        "        print(f'Epoch: {epoch:03d}, Train Acc: {train_acc:.4f}, Test Acc: {test_acc:.4f}')"
      ]
    },
    {
      "cell_type": "markdown",
      "metadata": {
        "id": "fZ7brOcqUpv6"
      },
      "source": [
        "### Used just for visualizing the data"
      ]
    },
    {
      "cell_type": "code",
      "execution_count": null,
      "metadata": {
        "colab": {
          "base_uri": "https://localhost:8080/",
          "height": 291
        },
        "id": "-6PgpnybUpv7",
        "outputId": "db3a262a-6cff-4d99-a91d-996bf72d131a"
      },
      "outputs": [
        {
          "output_type": "execute_result",
          "data": {
            "text/plain": [
              "<matplotlib.axes._subplots.AxesSubplot at 0x7f268ee07a50>"
            ]
          },
          "metadata": {},
          "execution_count": 17
        },
        {
          "output_type": "display_data",
          "data": {
            "text/plain": [
              "<Figure size 432x288 with 2 Axes>"
            ],
            "image/png": "[encoded data removed]"
          },
          "metadata": {
            "needs_background": "light"
          }
        }
      ],
      "source": [
        "import seaborn as sn\n",
        "# import pandas as pd\n",
        "import matplotlib.pyplot as plt\n",
        "# plt.figure(figsize = (10,7))\n",
        "sn.heatmap(df.iloc[:5,:], annot=True)"
      ]
    },
    {
      "cell_type": "code",
      "execution_count": null,
      "metadata": {
        "colab": {
          "base_uri": "https://localhost:8080/",
          "height": 613
        },
        "id": "HMCHRD0PUpv8",
        "outputId": "dedb2667-636d-45cd-bef4-0646d75834f3"
      },
      "outputs": [
        {
          "output_type": "execute_result",
          "data": {
            "text/plain": [
              "<matplotlib.axes._subplots.AxesSubplot at 0x7f268e5d0d10>"
            ]
          },
          "metadata": {},
          "execution_count": 18
        },
        {
          "output_type": "display_data",
          "data": {
            "text/plain": [
              "<Figure size 720x720 with 2 Axes>"
            ],
            "image/png": "[encoded data removed]"
          },
          "metadata": {
            "needs_background": "light"
          }
        }
      ],
      "source": [
        "# Viewed the feature matrix in form of a confusion matrix\n",
        "plt.figure(figsize = (10,10))\n",
        "sn.heatmap(df1.iloc[:10, :10], annot=True)"
      ]
    }
  ],
  "metadata": {
    "kernelspec": {
      "display_name": "Python 3",
      "language": "python",
      "name": "python3"
    },
    "language_info": {
      "codemirror_mode": {
        "name": "ipython",
        "version": 3
      },
      "file_extension": ".py",
      "mimetype": "text/x-python",
      "name": "python",
      "nbconvert_exporter": "python",
      "pygments_lexer": "ipython3",
      "version": "3.7.6"
    },
    "colab": {
      "provenance": []
    }
  },
  "nbformat": 4,
  "nbformat_minor": 0
}